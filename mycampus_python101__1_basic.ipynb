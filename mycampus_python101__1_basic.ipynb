{
  "cells": [
    {
      "cell_type": "markdown",
      "metadata": {
        "id": "view-in-github",
        "colab_type": "text"
      },
      "source": [
        "<a href=\"https://colab.research.google.com/github/Young-sun-git/advanced-probablility-theory-based-info-processing/blob/main/mycampus_python101__1_basic.ipynb\" target=\"_parent\"><img src=\"https://colab.research.google.com/assets/colab-badge.svg\" alt=\"Open In Colab\"/></a>"
      ]
    },
    {
      "cell_type": "markdown",
      "metadata": {
        "id": "hH4LfqPIIn9N"
      },
      "source": [
        "#  딥러닝 프로그래밍 빠르게 배우기 (마이캠퍼스)\n",
        "## https://pg.mycampus.io/?idx=97\n",
        "\n",
        "* 질문/문의: 마이캠퍼스 한대희 , daehee@mycampus.io, 010-2101-0255\n",
        "\n",
        "## 이 파일의 목차 \n",
        "* int, float 숫자\n",
        "* string 문자열\n",
        "* list 리스트\n",
        "* tuple 튜플\n",
        "* list 인텍스, 슬라이스(slice)\n",
        "* range()\n",
        "* for 루프\n",
        "* 문자열 함수"
      ]
    },
    {
      "cell_type": "markdown",
      "metadata": {
        "id": "0B38R2tRf5KQ"
      },
      "source": [
        "# 숫자, 계산"
      ]
    },
    {
      "cell_type": "code",
      "execution_count": null,
      "metadata": {
        "colab": {
          "base_uri": "https://localhost:8080/"
        },
        "id": "xY2omj5uf28j",
        "outputId": "02f40d82-0f46-43eb-dab0-f7b0cb2c8b9a"
      },
      "outputs": [
        {
          "output_type": "execute_result",
          "data": {
            "text/plain": [
              "30"
            ]
          },
          "metadata": {},
          "execution_count": 1
        }
      ],
      "source": [
        "10 + 20"
      ]
    },
    {
      "cell_type": "code",
      "execution_count": null,
      "metadata": {
        "colab": {
          "base_uri": "https://localhost:8080/"
        },
        "id": "H6hzLmbKf4pL",
        "outputId": "741b165d-34ad-4176-c624-b9c4e9184932"
      },
      "outputs": [
        {
          "output_type": "execute_result",
          "data": {
            "text/plain": [
              "50"
            ]
          },
          "metadata": {},
          "execution_count": 2
        }
      ],
      "source": [
        "(2+3) * 10"
      ]
    },
    {
      "cell_type": "code",
      "execution_count": null,
      "metadata": {
        "colab": {
          "base_uri": "https://localhost:8080/"
        },
        "id": "TeM_yQqJgEnS",
        "outputId": "2a580b17-d920-4dae-a2ed-5c1e1fdd6bac"
      },
      "outputs": [
        {
          "output_type": "execute_result",
          "data": {
            "text/plain": [
              "50"
            ]
          },
          "metadata": {},
          "execution_count": 3
        }
      ],
      "source": [
        "# 변수: 값을 저장하는 방(메모리). 그 방의 이름\n",
        "a = 2\n",
        "b = 3\n",
        "c = 10\n",
        "c * (a+b)"
      ]
    },
    {
      "cell_type": "code",
      "execution_count": null,
      "metadata": {
        "colab": {
          "base_uri": "https://localhost:8080/"
        },
        "id": "CYaKZERcgXCM",
        "outputId": "b46030d3-ef20-4263-f2fc-b43f34f0cb67"
      },
      "outputs": [
        {
          "output_type": "execute_result",
          "data": {
            "text/plain": [
              "4.5"
            ]
          },
          "metadata": {},
          "execution_count": 4
        }
      ],
      "source": [
        "a = 1.5  # 실수 (소수점이 있는 수)\n",
        "b = 3    # 정수 (소수점이 없는 수)\n",
        "a*b"
      ]
    },
    {
      "cell_type": "markdown",
      "metadata": {
        "id": "YVSBX552fxTm"
      },
      "source": [
        "# 문자열 (텍스트) 다루기"
      ]
    },
    {
      "cell_type": "code",
      "execution_count": null,
      "metadata": {
        "colab": {
          "base_uri": "https://localhost:8080/"
        },
        "id": "xmQmrs7LggWT",
        "outputId": "31f61705-91f5-4e60-c7a8-bb51ee695cc6"
      },
      "outputs": [
        {
          "output_type": "stream",
          "name": "stdout",
          "text": [
            "hello 1\n",
            "hello 2\n"
          ]
        }
      ],
      "source": [
        "# 문자열(텍스트) 표시에 큰따옴표, 작은따옴표 모두 가능\n",
        "print('hello 1') # 큰따옴표\n",
        "print(\"hello 2\") # 작은따옴표"
      ]
    },
    {
      "cell_type": "code",
      "execution_count": null,
      "metadata": {
        "colab": {
          "base_uri": "https://localhost:8080/"
        },
        "id": "ajBt6h3Ee-Xj",
        "outputId": "9025a48f-97a3-4ef6-9471-741387993aef"
      },
      "outputs": [
        {
          "output_type": "stream",
          "name": "stdout",
          "text": [
            "Hello \n",
            "         World 1\n"
          ]
        }
      ],
      "source": [
        "# 따옴표 연속 3개 - 여러 라인의 문자열 가능함.\n",
        "print('''Hello \n",
        "         World 1''')"
      ]
    },
    {
      "cell_type": "code",
      "execution_count": null,
      "metadata": {
        "colab": {
          "base_uri": "https://localhost:8080/"
        },
        "id": "4pjyqfwqfTaW",
        "outputId": "222cf230-7295-4d8a-a7ff-aff4b120c0ec"
      },
      "outputs": [
        {
          "output_type": "stream",
          "name": "stdout",
          "text": [
            "Hello \n",
            "         World 2\n"
          ]
        }
      ],
      "source": [
        "# 따옴표 연속 3개 - 여러 라인의 문자열 가능함.\n",
        "print(\"\"\"Hello \n",
        "         World 2\"\"\")"
      ]
    },
    {
      "cell_type": "code",
      "execution_count": null,
      "metadata": {
        "colab": {
          "base_uri": "https://localhost:8080/"
        },
        "id": "pz_wZBdjesjx",
        "outputId": "1ecc9316-2bab-4f87-cae0-ea01d3e7b019"
      },
      "outputs": [
        {
          "output_type": "stream",
          "name": "stdout",
          "text": [
            "hello\n"
          ]
        }
      ],
      "source": [
        "# 변수: 데이터를 어떤 방(메모리)에 저장하고, 그 방이름을 정함.\n",
        "a = 'hello'\n",
        "print(a) "
      ]
    },
    {
      "cell_type": "markdown",
      "metadata": {
        "id": "1GsP9UvzguDL"
      },
      "source": [
        "# 여러 개의 값을 저장하기  -- list (리스트)와 tuple(튜플)"
      ]
    },
    {
      "cell_type": "code",
      "execution_count": null,
      "metadata": {
        "id": "oK2EeGsHhMCX"
      },
      "outputs": [],
      "source": [
        "a = [10, 20, 30] # list: []\n",
        "b = (10, 20, 30) # tuple: ()  \n"
      ]
    },
    {
      "cell_type": "code",
      "execution_count": null,
      "metadata": {
        "colab": {
          "base_uri": "https://localhost:8080/"
        },
        "id": "gitl_sychcZY",
        "outputId": "776760b2-9787-4e51-8013-719a479982a4"
      },
      "outputs": [
        {
          "output_type": "stream",
          "name": "stdout",
          "text": [
            "[10, 20, 30]\n",
            "(10, 20, 30)\n"
          ]
        }
      ],
      "source": [
        "print(a)\n",
        "print(b)"
      ]
    },
    {
      "cell_type": "code",
      "execution_count": null,
      "metadata": {
        "colab": {
          "base_uri": "https://localhost:8080/"
        },
        "id": "kp7agvSDhfUt",
        "outputId": "8fa8a49c-9d9a-4eed-c5e6-a4943f407c05"
      },
      "outputs": [
        {
          "output_type": "stream",
          "name": "stdout",
          "text": [
            "<class 'list'>\n",
            "<class 'tuple'>\n"
          ]
        }
      ],
      "source": [
        "print(type(a)) # 데이터의 타입을 알아보기\n",
        "print(type(b)) # 데이터의 타입을 알아보기"
      ]
    },
    {
      "cell_type": "code",
      "execution_count": null,
      "metadata": {
        "colab": {
          "base_uri": "https://localhost:8080/"
        },
        "id": "nFKKp9YPiBxS",
        "outputId": "ac524485-4796-45f3-ff2f-bf580e504537"
      },
      "outputs": [
        {
          "output_type": "stream",
          "name": "stdout",
          "text": [
            "[10, 20, 30, 10, 20, 30]\n",
            "(10, 20, 30, 10, 20, 30)\n"
          ]
        }
      ],
      "source": [
        "print(a*2) # 원소 개수가 2배로 \n",
        "print(b*2) # 원소 개수가 2배로 "
      ]
    },
    {
      "cell_type": "markdown",
      "source": [
        "## list와 tuple 차이\n",
        "* tuple은 처음 생성될때의 데이터(원소, element)를 추가, 삭제할 수 없다.\n",
        "* list는 데이터(element)를 추가, 삭제할 수 있다."
      ],
      "metadata": {
        "id": "rPZqPxOKVwWr"
      }
    },
    {
      "cell_type": "code",
      "execution_count": null,
      "metadata": {
        "colab": {
          "base_uri": "https://localhost:8080/"
        },
        "id": "t-Qha-4UVjsJ",
        "outputId": "a552cf93-4ee9-4a97-ee11-9cd6587bb126"
      },
      "outputs": [
        {
          "output_type": "stream",
          "name": "stdout",
          "text": [
            "[10, 20, 30, 40]\n"
          ]
        }
      ],
      "source": [
        "a.append(40)\n",
        "print(a)"
      ]
    },
    {
      "cell_type": "markdown",
      "metadata": {
        "id": "dsW58P5nKEH6"
      },
      "source": [
        "# 데이터 생성하기\n"
      ]
    },
    {
      "cell_type": "markdown",
      "metadata": {
        "id": "2Z7m_w9LKxLt"
      },
      "source": [
        "## integer (정수) --> int()"
      ]
    },
    {
      "cell_type": "code",
      "execution_count": null,
      "metadata": {
        "colab": {
          "base_uri": "https://localhost:8080/"
        },
        "id": "KZ2MmUNuI1tr",
        "outputId": "09612294-4d11-4f66-f2fb-96b6c8d95085"
      },
      "outputs": [
        {
          "output_type": "stream",
          "name": "stdout",
          "text": [
            "A1: 77 A2: 77 A3: 0\n"
          ]
        }
      ],
      "source": [
        "A1 = 77\n",
        "A2 = int('77')\n",
        "A3 = int()\n",
        "print('A1:', A1, 'A2:', A2, 'A3:', A3)"
      ]
    },
    {
      "cell_type": "markdown",
      "metadata": {
        "id": "HbuuOIT3K2gb"
      },
      "source": [
        "## real number (실수) --> float()"
      ]
    },
    {
      "cell_type": "code",
      "execution_count": null,
      "metadata": {
        "colab": {
          "base_uri": "https://localhost:8080/"
        },
        "id": "rXrBJgdZKOyY",
        "outputId": "37216468-24f6-4d93-a584-95acbabb55fb"
      },
      "outputs": [
        {
          "output_type": "stream",
          "name": "stdout",
          "text": [
            "A1: 3.4 A2: 3.4 A3: 0.0\n"
          ]
        }
      ],
      "source": [
        "A1 = 3.4\n",
        "A2 = float('3.4')\n",
        "A3 = float()\n",
        "print('A1:', A1, 'A2:', A2, 'A3:', A3)"
      ]
    },
    {
      "cell_type": "markdown",
      "metadata": {
        "id": "sVXSNe4XLF5i"
      },
      "source": [
        "## list (목록) --> list(), [ ]"
      ]
    },
    {
      "cell_type": "code",
      "execution_count": null,
      "metadata": {
        "colab": {
          "base_uri": "https://localhost:8080/"
        },
        "id": "u62tC77eKO2Q",
        "outputId": "51fa1bd6-1b8d-4e3e-dd1d-0e202228ed3e"
      },
      "outputs": [
        {
          "output_type": "stream",
          "name": "stdout",
          "text": [
            "A1: [0, 1, 2, 3] A2: [0, 1, 2, 3] A3: []\n"
          ]
        }
      ],
      "source": [
        "A1 = [0,1,2,3]\n",
        "A2 = list(range(4))\n",
        "A3 = list()\n",
        "print('A1:', A1, 'A2:', A2, 'A3:', A3)"
      ]
    },
    {
      "cell_type": "markdown",
      "metadata": {
        "id": "rncNMBy5VjsL"
      },
      "source": [
        "## list의 인덱스"
      ]
    },
    {
      "cell_type": "code",
      "execution_count": null,
      "metadata": {
        "colab": {
          "base_uri": "https://localhost:8080/"
        },
        "id": "WlhiRCa7VjsL",
        "outputId": "51c5debe-5a61-473f-9d02-415f4d5f421a"
      },
      "outputs": [
        {
          "output_type": "stream",
          "name": "stdout",
          "text": [
            "0\n",
            "4\n",
            "[0, 1, 2, 3, 4, 5]\n",
            "5\n",
            "4\n"
          ]
        }
      ],
      "source": [
        " a = [0, 1, 2, 3, 4]\n",
        " print(a[0])   # 첫번째 방은 0번방. index는 0부터.\n",
        " print(a[-1])  # -1은 끝 \n",
        " a.append(5) # element를 제일 뒤에 하나 추가. \n",
        " print(a)\n",
        " print(a[-1])\n",
        " print(a[-2])  # 끝에서 두번째\n"
      ]
    },
    {
      "cell_type": "markdown",
      "metadata": {
        "id": "Nm3bO3_tVjsL"
      },
      "source": [
        "## list의 slice(콜론)"
      ]
    },
    {
      "cell_type": "code",
      "execution_count": null,
      "metadata": {
        "colab": {
          "base_uri": "https://localhost:8080/"
        },
        "id": "jbWSdvB7VjsL",
        "outputId": "7ba2b5af-be3f-4ede-b568-50a553208872"
      },
      "outputs": [
        {
          "output_type": "stream",
          "name": "stdout",
          "text": [
            "[1, 2]\n",
            "[0, 1, 2]\n",
            "[3, 4, 5]\n",
            "[0, 1, 2, 3, 4]\n",
            "[0, 1, 2, 3, 4, 5, 'hello']\n"
          ]
        }
      ],
      "source": [
        "# slice – 콜론(‘:’)으로 index의 start,end를 지정함. end는 포함하지 않음\n",
        "print(a[1:3]) # 1번index(2번방)에서 3번index직전까지 \n",
        "print(a[:3])   # start를 지정하지 않으면 처음부터.\n",
        "print(a[3:])   #  end를 지정하지 않으면 끝까지.\n",
        "print(a[:-1])  # 처음부터 끝 직전까지.\n",
        "a.append('hello')\n",
        "print(a)\n"
      ]
    },
    {
      "cell_type": "markdown",
      "metadata": {
        "id": "uuaoeWtZVjsM"
      },
      "source": [
        "# python 기본 함수 중 sum(),  len()"
      ]
    },
    {
      "cell_type": "code",
      "execution_count": null,
      "metadata": {
        "colab": {
          "base_uri": "https://localhost:8080/"
        },
        "id": "mwYBPNAHVjsM",
        "outputId": "9fc58592-46e4-4b20-eef4-0585c3fbe99e"
      },
      "outputs": [
        {
          "output_type": "stream",
          "name": "stdout",
          "text": [
            "15\n",
            "3\n",
            "5.0\n"
          ]
        }
      ],
      "source": [
        "a = [4, 5, 6]\n",
        "print(sum(a))   # 합계 구하기  15\n",
        "\n",
        "print(len(a))    # 리스트길이(갯수)  3\n",
        "print(sum(a)/len(a))    # 평균값(mean) 구하기\n",
        "\n"
      ]
    },
    {
      "cell_type": "markdown",
      "metadata": {
        "id": "pDU12qbSNplm"
      },
      "source": [
        "# range()  사용법\n",
        "* range(숫자1) - 끝. 시작은 0.\n",
        "* range(숫자1, 숫자2) - 시작, 끝.\n",
        "* range(숫자1, 숫자2, 숫자3) - 시작, 끝, 스텝.\n",
        "* 주의할 점: 끝숫자는 포함하지 않는다. 끝 직전까지만. "
      ]
    },
    {
      "cell_type": "code",
      "execution_count": null,
      "metadata": {
        "colab": {
          "base_uri": "https://localhost:8080/"
        },
        "id": "vuOO8o4RJMRS",
        "outputId": "d0d7de69-2ef0-4b37-cd09-f7788643a7b6"
      },
      "outputs": [
        {
          "output_type": "stream",
          "name": "stdout",
          "text": [
            "[0, 1, 2, 3, 4]\n",
            "[1, 2, 3, 4]\n",
            "[1, 3]\n"
          ]
        }
      ],
      "source": [
        "print(list(range(5)))\n",
        "print(list(range(1, 5)))\n",
        "print(list(range(1, 5, 2)))"
      ]
    },
    {
      "cell_type": "code",
      "execution_count": null,
      "metadata": {
        "colab": {
          "base_uri": "https://localhost:8080/"
        },
        "id": "e2qxBPK_OO8a",
        "outputId": "81768461-86ee-4ee0-a68b-bc561fbce371"
      },
      "outputs": [
        {
          "output_type": "stream",
          "name": "stdout",
          "text": [
            "[1, 3, 5]\n"
          ]
        }
      ],
      "source": [
        "# range(숫자1, 숫자2, 숫자3) - 시작, 끝, 스텝.\n",
        "# 주의할 점: 끝숫자는 포함하지 않는다. 끝 직전까지만. \n",
        "print(list(range(1, 6, 2)))"
      ]
    },
    {
      "cell_type": "code",
      "metadata": {
        "id": "pO4QklH3f3uy"
      },
      "source": [
        "# 반복하기 == 루프, for 루프"
      ],
      "execution_count": null,
      "outputs": []
    },
    {
      "cell_type": "code",
      "execution_count": null,
      "metadata": {
        "colab": {
          "base_uri": "https://localhost:8080/"
        },
        "id": "tG0kn3sDVjsN",
        "outputId": "bd529dec-0acc-4ad5-a0c6-610ad8fae146"
      },
      "outputs": [
        {
          "output_type": "stream",
          "name": "stdout",
          "text": [
            "0 Love\n",
            "1 Love\n",
            "2 Love\n",
            "3 Love\n",
            "4 Love\n"
          ]
        }
      ],
      "source": [
        "for i in range(5): # for 루프\n",
        "    print(i, 'Love') # for 라인 다음 라인 시작할 때 공백 2개 이상 주어야 함."
      ]
    },
    {
      "cell_type": "code",
      "metadata": {
        "id": "Aj_KU226f31G"
      },
      "source": [
        "# 문자열(string) 관련 함수"
      ],
      "execution_count": null,
      "outputs": []
    },
    {
      "cell_type": "code",
      "execution_count": null,
      "metadata": {
        "id": "UR8VVEp8VjsN"
      },
      "outputs": [],
      "source": [
        "s1 = 'aaa bbb ccc'\n",
        "s2 = 'AAA,BBB,CCC'"
      ]
    },
    {
      "cell_type": "code",
      "execution_count": null,
      "metadata": {
        "colab": {
          "base_uri": "https://localhost:8080/"
        },
        "id": "8fkUIPZhVjsN",
        "outputId": "94c49037-2fd9-4359-b990-78bad87e5ba0"
      },
      "outputs": [
        {
          "output_type": "execute_result",
          "data": {
            "text/plain": [
              "['aaa', 'bbb', 'ccc']"
            ]
          },
          "metadata": {},
          "execution_count": 27
        }
      ],
      "source": [
        "# split() 기본적(디폴트)으로 공백으로 분리하여, 분리된 문자열들의 list를 만든다.\n",
        "s1.split() "
      ]
    },
    {
      "cell_type": "code",
      "execution_count": null,
      "metadata": {
        "colab": {
          "base_uri": "https://localhost:8080/"
        },
        "id": "BfVBLNX0VjsN",
        "outputId": "6ee3807f-42a9-4cd1-b5e0-e5ce42fe5e6b"
      },
      "outputs": [
        {
          "output_type": "execute_result",
          "data": {
            "text/plain": [
              "['AAA,BBB,CCC']"
            ]
          },
          "metadata": {},
          "execution_count": 28
        }
      ],
      "source": [
        "s2.split() # s2는 공백이 없으므로 전체가 한 개"
      ]
    },
    {
      "cell_type": "code",
      "execution_count": null,
      "metadata": {
        "colab": {
          "base_uri": "https://localhost:8080/"
        },
        "id": "nu9ADHtwVjsN",
        "outputId": "aa76d476-679a-4ae3-abf9-4fecb6c9e608"
      },
      "outputs": [
        {
          "output_type": "execute_result",
          "data": {
            "text/plain": [
              "['AAA', 'BBB', 'CCC']"
            ]
          },
          "metadata": {},
          "execution_count": 29
        }
      ],
      "source": [
        "s2.split(',') # s2를 콤마로 분리"
      ]
    },
    {
      "cell_type": "code",
      "execution_count": null,
      "metadata": {
        "colab": {
          "base_uri": "https://localhost:8080/"
        },
        "id": "2h2tAr_nVjsN",
        "outputId": "90ae171d-8515-45a0-c3cf-47e74136fd8e"
      },
      "outputs": [
        {
          "output_type": "stream",
          "name": "stdout",
          "text": [
            "aaa bbb ccc vs AAA BBB CCC\n",
            "AAA,BBB,CCC vs aaa,bbb,ccc\n"
          ]
        }
      ],
      "source": [
        "# 대소문자로 변환\n",
        "print(s1, 'vs', s1.upper())\n",
        "print(s2, 'vs', s2.lower())"
      ]
    },
    {
      "cell_type": "code",
      "execution_count": null,
      "metadata": {
        "colab": {
          "base_uri": "https://localhost:8080/"
        },
        "id": "sNzOU0THVjsO",
        "outputId": "440c696e-6ffe-4ad7-a456-8ceaac7edbcf"
      },
      "outputs": [
        {
          "output_type": "execute_result",
          "data": {
            "text/plain": [
              "True"
            ]
          },
          "metadata": {},
          "execution_count": 31
        }
      ],
      "source": [
        "# 'ccc'로 끝나는가?  - True/False 값\n",
        "s1.endswith('ccc')"
      ]
    },
    {
      "cell_type": "code",
      "execution_count": null,
      "metadata": {
        "colab": {
          "base_uri": "https://localhost:8080/"
        },
        "id": "6UvV5C9vVjsO",
        "outputId": "cf324b66-79f6-48c2-b65e-92b447d1918d"
      },
      "outputs": [
        {
          "output_type": "execute_result",
          "data": {
            "text/plain": [
              "False"
            ]
          },
          "metadata": {},
          "execution_count": 32
        }
      ],
      "source": [
        "# 'ccc'로 시작하는가?  - True/False 값\n",
        "s2.startswith('ccc')"
      ]
    }
  ],
  "metadata": {
    "colab": {
      "collapsed_sections": [],
      "name": "mycampus_python101_#1_basic.ipynb",
      "provenance": [],
      "include_colab_link": true
    },
    "kernelspec": {
      "display_name": "Python 3",
      "language": "python",
      "name": "python3"
    },
    "language_info": {
      "codemirror_mode": {
        "name": "ipython",
        "version": 3
      },
      "file_extension": ".py",
      "mimetype": "text/x-python",
      "name": "python",
      "nbconvert_exporter": "python",
      "pygments_lexer": "ipython3",
      "version": "3.7.3"
    },
    "toc": {
      "base_numbering": 1,
      "nav_menu": {},
      "number_sections": true,
      "sideBar": true,
      "skip_h1_title": false,
      "title_cell": "Table of Contents",
      "title_sidebar": "Contents",
      "toc_cell": false,
      "toc_position": {},
      "toc_section_display": true,
      "toc_window_display": false
    }
  },
  "nbformat": 4,
  "nbformat_minor": 0
}